{
 "cells": [
  {
   "cell_type": "code",
   "execution_count": null,
   "metadata": {},
   "outputs": [],
   "source": []
  },
  {
   "cell_type": "code",
   "execution_count": null,
   "metadata": {},
   "outputs": [],
   "source": [
    "# tuning stats"
   ]
  },
  {
   "cell_type": "code",
   "execution_count": null,
   "metadata": {},
   "outputs": [],
   "source": [
    "setwd('gecco_feat/analysis/notebooks/')\n",
    "\n",
    "df <- read.csv(\"tuning_r2_ranks.csv\",header=TRUE,sep=',')\n",
    "# df <- subset(df,!is.na(rank))\n",
    "# df <- subset(df,dataset!='505_tecator')\n",
    "summary(df,maxsum=18)\n"
   ]
  },
  {
   "cell_type": "code",
   "execution_count": null,
   "metadata": {},
   "outputs": [],
   "source": [
    "r2_res <- pairwise.wilcox.test(df$rank_r2, df$method, p.adjust.method = 'bonferroni',\n",
    "                      paired = T)\n",
    "cap = paste0(\"Bonferroni-adjusted $p$-values using a Wilcoxon signed rank test of $R^2$ scores \",\n",
    "      \"for the methods across all tuning problems. Bold: $p$<0.05.\")\n",
    "library(xtable)\n",
    "r2_res$p.value.formatted = format(r2_res$p.value,scientific=T,digits=2)\n",
    "r2_res$p.value.formatted = ifelse(r2_res$p.value < 0.05, paste0(\"{\\\\bf \",r2_res$p.value.formatted, \"}\"), \n",
    "                                  r2_res$p.value.formatted)\n",
    "# print(r2_res$p.value.formatted)\n",
    "ltx <- xtable(r2_res$p.value.formatted, caption=cap, display=c('s','s','s'),\n",
    "              caption.placement=\"top\",sanitize.text.function = identity)\n",
    "\n",
    "\n",
    "print(ltx,sanitize.text.function = identity)\n",
    "ltx"
   ]
  },
  {
   "cell_type": "code",
   "execution_count": null,
   "metadata": {},
   "outputs": [],
   "source": [
    "setwd('gecco_feat/analysis/notebooks/')\n",
    "\n",
    "df <- read.csv(\"mse_ranks_benchmark.csv\",header=TRUE,sep=',')\n",
    "# df <- subset(df,!is.na(rank))\n",
    "# df <- subset(df,dataset!='505_tecator')\n",
    "summary(df,maxsum=18)\n"
   ]
  },
  {
   "cell_type": "code",
   "execution_count": null,
   "metadata": {},
   "outputs": [],
   "source": [
    "mse_res <- pairwise.wilcox.test(df$rank_mse, df$algorithm, p.adjust.method = 'bonferroni',\n",
    "                      paired = T)\n",
    "cap = paste0(\"Bonferroni-adjusted $p$-values using a Wilcoxon signed rank test of MSE scores \",\n",
    "      \"for the methods across all benchmarks. Bold: $p$<0.05.\")\n",
    "library(xtable)\n",
    "mse_res$p.value.formatted = format(mse_res$p.value,scientific=T,digits=2)\n",
    "mse_res$p.value.formatted = ifelse(mse_res$p.value < 0.05, paste0(\"{\\\\bf \",mse_res$p.value.formatted, \"}\"), \n",
    "                                  mse_res$p.value.formatted)\n",
    "# print(mse_res$p.value.formatted)\n",
    "ltx <- xtable(mse_res$p.value.formatted, caption=cap, display=c('s',rep('s',17)),\n",
    "              caption.placement=\"top\",sanitize.text.function = identity)\n",
    "\n",
    "\n",
    "print(ltx,sanitize.text.function = identity)\n",
    "ltx"
   ]
  },
  {
   "cell_type": "code",
   "execution_count": null,
   "metadata": {},
   "outputs": [],
   "source": [
    "df <- read.csv(\"size_ranks.csv\",header=TRUE,sep=',')\n",
    "df <- subset(df,method!='KernelRidge')\n",
    "df$method = factor(df$method)\n",
    "# df <- subset(df,dataset!='505_tecator')\n",
    "summary(df,maxsum=90)"
   ]
  },
  {
   "cell_type": "code",
   "execution_count": null,
   "metadata": {},
   "outputs": [],
   "source": [
    "\n",
    "res <- pairwise.wilcox.test(df$rank_size, df$method, p.adjust.method = 'bonferroni',\n",
    "                      paired = T)\n",
    "cap = paste0(\"Bonferroni-adjusted $p$-values using a Wilcoxon signed rank test of sizes\",\n",
    "      \"for the methods across all benchmarks. All results are significant. *: $p$<0.05.\")\n",
    "library(xtable)\n",
    "res$p.value.formatted = format(res$p.value,scientific=T,digits=3)\n",
    "res$p.value.formatted = ifelse(res$p.value < 0.05, paste0(res$p.value.formatted, \"*\"), \n",
    "                                  res$p.value.formatted)\n",
    "# res$p.value.formatted = format(res$p.value,)\n",
    "# res$p.value.formatted = ifelse(res$p.value < 0.05, paste0(\"\\\\textbf{\", res$p.value.formatted, \"}\"), res$p.value)\n",
    "ltx <- xtable(res$p.value.formatted, caption=cap, display=c('s',rep('s',6)),\n",
    "              caption.placement = \"top\")\n",
    "\n",
    "\n",
    "print(ltx)\n",
    "ltx"
   ]
  },
  {
   "cell_type": "code",
   "execution_count": null,
   "metadata": {},
   "outputs": [],
   "source": [
    "?xtable "
   ]
  }
 ],
 "metadata": {
  "kernelspec": {
   "display_name": "R",
   "language": "R",
   "name": "ir"
  },
  "language_info": {
   "codemirror_mode": "r",
   "file_extension": ".r",
   "mimetype": "text/x-r-source",
   "name": "R",
   "pygments_lexer": "r",
   "version": "3.5.1"
  }
 },
 "nbformat": 4,
 "nbformat_minor": 2
}
